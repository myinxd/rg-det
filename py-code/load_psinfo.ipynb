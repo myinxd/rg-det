{
 "cells": [
  {
   "cell_type": "markdown",
   "metadata": {},
   "source": [
    "## load ps info\n",
    "1. Load the csv file\n",
    "2. Skip to the uncommented lines\n",
    "3. Extract info according to respect type\n",
    "4. type: 1 - FRI, 2 - FRII, 3 - RQQ, 4 - SF, 5 - SB"
   ]
  },
  {
   "cell_type": "code",
   "execution_count": 1,
   "metadata": {
    "collapsed": true
   },
   "outputs": [],
   "source": [
    "import os\n",
    "import pandas as pd"
   ]
  },
  {
   "cell_type": "code",
   "execution_count": 2,
   "metadata": {
    "collapsed": true
   },
   "outputs": [],
   "source": [
    "import numpy as np"
   ]
  },
  {
   "cell_type": "code",
   "execution_count": 3,
   "metadata": {
    "collapsed": true
   },
   "outputs": [],
   "source": [
    "filepath = \"../data/ptr1440fov2_fmin10uJy_sources.csv\"\n",
    "with open(filepath,'r') as fp:\n",
    "    data = fp.readlines()"
   ]
  },
  {
   "cell_type": "code",
   "execution_count": 4,
   "metadata": {
    "collapsed": true
   },
   "outputs": [],
   "source": [
    "def getOrderedDict(keys,keysid):\n",
    "    \"\"\"Get ordered dict\"\"\"\n",
    "    from collections import OrderedDict\n",
    "    d = OrderedDict()\n",
    "    for i in keysid:\n",
    "        d[keys[i]] = []\n",
    "    return d"
   ]
  },
  {
   "cell_type": "code",
   "execution_count": 5,
   "metadata": {
    "collapsed": true
   },
   "outputs": [],
   "source": [
    "def getPSdict():\n",
    "    \"\"\"Output PS dict according to given typecode\n",
    "    1 - FRI, 2 - FRII, 3 - RQQ, 4 - SF, 5 - SB\n",
    "    \"\"\"\n",
    "    keys = [\"redshift\",\"x\",\"y\",\"flux\",\"major\",\n",
    "            \"minor\",\"pa\",\"x_l1\",\"y_l1\",\"flux_l1\",\n",
    "            \"major_l1\",\"minor_l1\",\"pa_l1\",\"x_l2\",\"y_l2\",\n",
    "            \"flux_l2\",\"major_l2\",\"minor_l2\",\"pa_l2\",\"x_h1\",\n",
    "            \"y_h1\",\"flux_h1\",\"x_h2\",\"y_h2\",\"flux_h2\"]\n",
    "    ps = {\"1\": None, \"2\": None, \"3\": None, \"4\": None, \"5\": None}\n",
    "    id_dict = {\"1\": [0,1,2,3,7,8,9,10,11,12,13,14,15,16,17,18],\n",
    "               \"2\": [0,1,2,3,7,8,9,10,11,12,13,14,15,16,17,18,19,20,21,22,23,24],\n",
    "               \"3\": [0,1,2,3],\n",
    "               \"4\": [0,1,2,3,4,5,6],\n",
    "               \"5\": [0,1,2,3,4,5,6]}\n",
    "    for key in ps.keys():\n",
    "        ps[key] = getOrderedDict(keys=keys,keysid=id_dict[key])\n",
    "    \n",
    "    return ps"
   ]
  },
  {
   "cell_type": "code",
   "execution_count": 6,
   "metadata": {
    "collapsed": true
   },
   "outputs": [],
   "source": [
    "def getPSparam(psline,typedict):\n",
    "    \"get ps parameters\"\n",
    "    # split\n",
    "    psparams = np.array(psline[0:-1].split(\",\"))\n",
    "    # remove \" \"\n",
    "    psparams = psparams[psparams != \"\"]\n",
    "    # update typedict\n",
    "    for i,key in enumerate(typedict.keys()):\n",
    "        typedict[key].append(float(psparams[i+1]))\n",
    "    \n",
    "    return typedict"
   ]
  },
  {
   "cell_type": "code",
   "execution_count": 8,
   "metadata": {},
   "outputs": [],
   "source": [
    "psdata = data[12:]\n",
    "pslist = getPSdict()\n",
    "\n",
    "for ps in psdata:\n",
    "    typecode=ps[0]\n",
    "    pslist[typecode] = getPSparam(psline=ps, typedict=pslist[typecode])"
   ]
  },
  {
   "cell_type": "code",
   "execution_count": 9,
   "metadata": {
    "collapsed": true
   },
   "outputs": [],
   "source": [
    "# Save \n",
    "savefold = \"pslist\"\n",
    "# os.mkdir(savefold)\n",
    "for i in range(5):\n",
    "    dFrame = pd.DataFrame(pslist[str(i+1)])\n",
    "    dFrame.to_excel(os.path.join(savefold, \"ptr1440fov2_fmin10uJy_type{0}.xlsx\".format(str(i+1))))"
   ]
  },
  {
   "cell_type": "code",
   "execution_count": 10,
   "metadata": {
    "collapsed": true
   },
   "outputs": [],
   "source": [
    "# read_csv skip comment lines\n",
    "test = pd.read_csv(filepath,comment='#')"
   ]
  }
 ],
 "metadata": {
  "kernelspec": {
   "display_name": "Python 3",
   "language": "python",
   "name": "python3"
  },
  "language_info": {
   "codemirror_mode": {
    "name": "ipython",
    "version": 3
   },
   "file_extension": ".py",
   "mimetype": "text/x-python",
   "name": "python",
   "nbconvert_exporter": "python",
   "pygments_lexer": "ipython3",
   "version": "3.5.2+"
  }
 },
 "nbformat": 4,
 "nbformat_minor": 2
}
