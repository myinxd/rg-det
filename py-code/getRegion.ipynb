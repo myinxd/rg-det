{
 "cells": [
  {
   "cell_type": "markdown",
   "metadata": {},
   "source": [
    "## Generate region file"
   ]
  },
  {
   "cell_type": "code",
   "execution_count": 1,
   "metadata": {
    "collapsed": true
   },
   "outputs": [],
   "source": [
    "import os\n",
    "import numpy as np\n",
    "import pandas as pd"
   ]
  },
  {
   "cell_type": "code",
   "execution_count": 2,
   "metadata": {
    "collapsed": true
   },
   "outputs": [],
   "source": [
    "# load source code\n",
    "filepath = \"../data/ptr1440fov2_fmin10uJy_sources.csv\"\n",
    "pslist = pd.read_csv(filepath,comment=\"#\",sep=\",\")"
   ]
  },
  {
   "cell_type": "code",
   "execution_count": 3,
   "metadata": {},
   "outputs": [
    {
     "data": {
      "text/plain": [
       "Index(['type', 'redshift', 'x', 'y', 'flux', 'major', 'minor', 'pa', 'x_l1',\n",
       "       'y_l1', 'flux_l1', 'major_l1', 'minor_l1', 'pa_l1', 'x_l2', 'y_l2',\n",
       "       'flux_l2', 'major_l2', 'minor_l2', 'pa_l2', 'x_h1', 'y_h1', 'flux_h1',\n",
       "       'x_h2', 'y_h2', 'flux_h2'],\n",
       "      dtype='object')"
      ]
     },
     "execution_count": 3,
     "metadata": {},
     "output_type": "execute_result"
    }
   ],
   "source": [
    "pslist.keys()"
   ]
  },
  {
   "cell_type": "code",
   "execution_count": 4,
   "metadata": {
    "collapsed": true
   },
   "outputs": [],
   "source": [
    "psarray = np.array(pslist)\n",
    "pstype = np.array(pslist[\"type\"])\n",
    "psparam = psarray[:,1:]\n",
    "\n",
    "locid = [1,2,6,7,12,13,18,19,22,23]\n",
    "semiid = [4,5,9,10,15,16]\n",
    "psparam[:,locid] += 1\n",
    "psparam[:,semiid] /= 2"
   ]
  },
  {
   "cell_type": "code",
   "execution_count": 5,
   "metadata": {},
   "outputs": [
    {
     "data": {
      "text/plain": [
       "(122344, 26)"
      ]
     },
     "execution_count": 5,
     "metadata": {},
     "output_type": "execute_result"
    }
   ],
   "source": [
    "psarray.shape"
   ]
  },
  {
   "cell_type": "code",
   "execution_count": 6,
   "metadata": {},
   "outputs": [
    {
     "data": {
      "text/plain": [
       "(122344, 25)"
      ]
     },
     "execution_count": 6,
     "metadata": {},
     "output_type": "execute_result"
    }
   ],
   "source": [
    "psparam.shape"
   ]
  },
  {
   "cell_type": "code",
   "execution_count": 7,
   "metadata": {},
   "outputs": [
    {
     "data": {
      "text/plain": [
       "array([  1.00000000e+00,   2.66369000e-01,   2.20000000e+01,\n",
       "         5.85000000e+02,   3.93550000e-05,              nan,\n",
       "                    nan,   2.20456000e+01,   5.83271000e+02,\n",
       "         1.55668000e-03,   2.15110000e+00,   6.85500000e-01,\n",
       "         1.71544000e+02,   2.14120000e+01,   5.87526000e+02,\n",
       "         1.55668000e-03,   2.15110000e+00,   6.85500000e-01,\n",
       "         1.71544000e+02,              nan,              nan,\n",
       "                    nan,              nan,              nan,\n",
       "                    nan,              nan])"
      ]
     },
     "execution_count": 7,
     "metadata": {},
     "output_type": "execute_result"
    }
   ],
   "source": [
    "psarray[4920,:]"
   ]
  },
  {
   "cell_type": "code",
   "execution_count": 8,
   "metadata": {},
   "outputs": [
    {
     "data": {
      "text/plain": [
       "array([  2.66369000e-01,   2.20000000e+01,   5.85000000e+02,\n",
       "         3.93550000e-05,              nan,              nan,\n",
       "         2.20456000e+01,   5.83271000e+02,   1.55668000e-03,\n",
       "         2.15110000e+00,   6.85500000e-01,   1.71544000e+02,\n",
       "         2.14120000e+01,   5.87526000e+02,   1.55668000e-03,\n",
       "         2.15110000e+00,   6.85500000e-01,   1.71544000e+02,\n",
       "                    nan,              nan,              nan,\n",
       "                    nan,              nan,              nan,\n",
       "                    nan])"
      ]
     },
     "execution_count": 8,
     "metadata": {},
     "output_type": "execute_result"
    }
   ],
   "source": [
    "psparam[4920,:]"
   ]
  },
  {
   "cell_type": "code",
   "execution_count": 9,
   "metadata": {
    "collapsed": true
   },
   "outputs": [],
   "source": [
    "def getRegion(pstype,psparam):\n",
    "    \"\"\"Generate ds9 style region list\"\"\"\n",
    "    if pstype == 1 or pstype == 2:\n",
    "        id_l1 = np.array([7,6,9,10,11])\n",
    "        id_l2 = np.array([13,12,15,16,17])\n",
    "        reg1 = \"ellipse(\" + \",\".join(psparam[id_l1].astype(str)) + \")\\n\"\n",
    "        reg2 = \"ellipse(\" + \",\".join(psparam[id_l2].astype(str)) + \")\\n\"\n",
    "        reg = reg1+reg2\n",
    "    elif pstype == 3:\n",
    "        idx = [2,1]\n",
    "        reg = \"circle(\" + \",\".join(psparam[idx].astype(str)) + \", 1.0)\\n\"\n",
    "    elif pstype == 4 or pstype == 5:\n",
    "        idx = [2,1,4,5,6]\n",
    "        reg = \"ellipse(\" + \",\".join(psparam[idx].astype(str)) + \")\\n\"\n",
    "    else:\n",
    "        reg = None\n",
    "    \n",
    "    return reg"
   ]
  },
  {
   "cell_type": "code",
   "execution_count": 10,
   "metadata": {},
   "outputs": [
    {
     "name": "stdout",
     "output_type": "stream",
     "text": [
      "circle(295.0,161.0, 1.0)\n",
      "\n"
     ]
    }
   ],
   "source": [
    "reg = getRegion(pstype[0], psparam[0,:])\n",
    "print(reg)"
   ]
  },
  {
   "cell_type": "code",
   "execution_count": 11,
   "metadata": {
    "collapsed": true
   },
   "outputs": [],
   "source": [
    "savefold = \"./pslist/\""
   ]
  },
  {
   "cell_type": "code",
   "execution_count": 12,
   "metadata": {
    "collapsed": true
   },
   "outputs": [],
   "source": [
    "def writeRegion(pstype,psparam,idx_type,savepath):\n",
    "    \"\"\"Write ps list to region files.\"\"\"\n",
    "    with open(savepath, 'w') as fp:\n",
    "        # ds9 style header\n",
    "        fp.write('# Region file format: DS9 version 4.1\\n')\n",
    "        fp.write('global color=red dashlist=8 3 width=1 font=\"helvetica 10 normal roman\" select=1 highlite=1 dash=0 fixed=0 edit=1 move=1 delete=1 include=1 source=1\\n')\n",
    "        fp.write('image\\n')\n",
    "        for i in idx_type:\n",
    "            reg = getRegion(pstype[i],psparam[i,:])\n",
    "            fp.write(reg)"
   ]
  },
  {
   "cell_type": "code",
   "execution_count": 13,
   "metadata": {},
   "outputs": [],
   "source": [
    "# Regions\n",
    "for i in range(5):\n",
    "    idx_type = np.where(pstype==i+1)[0]\n",
    "    # save\n",
    "    savepath = os.path.join(savefold,\n",
    "                            \"ptr1440fov2_fmin10uJy_type{0}.reg\".format(str(i+1)))\n",
    "    writeRegion(pstype,psparam,idx_type,savepath)"
   ]
  }
 ],
 "metadata": {
  "kernelspec": {
   "display_name": "Python 3",
   "language": "python",
   "name": "python3"
  },
  "language_info": {
   "codemirror_mode": {
    "name": "ipython",
    "version": 3
   },
   "file_extension": ".py",
   "mimetype": "text/x-python",
   "name": "python",
   "nbconvert_exporter": "python",
   "pygments_lexer": "ipython3",
   "version": "3.5.2+"
  }
 },
 "nbformat": 4,
 "nbformat_minor": 2
}
